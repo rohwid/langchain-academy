{
 "cells": [
  {
   "cell_type": "markdown",
   "id": "fb0ebaf1",
   "metadata": {},
   "source": [
    "[![Open in Colab](https://colab.research.google.com/assets/colab-badge.svg)](https://colab.research.google.com/github/langchain-ai/langchain-academy/blob/main/module-2/trim-filter-messages.ipynb) [![Open in LangChain Academy](https://cdn.prod.website-files.com/65b8cd72835ceeacd4449a53/66e9eba12c7b7688aa3dbb5e_LCA-badge-green.svg)](https://academy.langchain.com/courses/take/intro-to-langgraph/lessons/58239435-lesson-4-trim-and-filter-messages)"
   ]
  },
  {
   "cell_type": "markdown",
   "id": "c52ea2f9-03ff-4647-b782-46867ebed04e",
   "metadata": {},
   "source": [
    "# Filtering and trimming messages\n",
    "\n",
    "## Review\n",
    "\n",
    "Now, we have a deeper understanding of a few things: \n",
    "\n",
    "* How to customize the graph state schema\n",
    "* How to define custom state reducers\n",
    "* How to use multiple graph state schemas\n",
    "\n",
    "## Goals\n",
    "\n",
    "Now, we can start using these concepts with models in LangGraph!\n",
    " \n",
    "In the next few sessions, we'll build towards a chatbot that has long-term memory.\n",
    "\n",
    "Because our chatbot will use messages, let's first talk a bit more about advanced ways to work with messages in graph state."
   ]
  },
  {
   "cell_type": "code",
   "execution_count": 1,
   "id": "d5197aba-5d46-421b-ae3b-4e3034edcfda",
   "metadata": {},
   "outputs": [],
   "source": [
    "# %%capture --no-stderr\n",
    "# %pip install --quiet -U langchain_core langgraph langchain_openai"
   ]
  },
  {
   "cell_type": "code",
   "execution_count": 2,
   "id": "768dc606-d5f2-468d-96ea-910b264e0f8a",
   "metadata": {},
   "outputs": [],
   "source": [
    "import os\n",
    "\n",
    "with open(\".env\") as f:\n",
    "    os.environ.update(\n",
    "        line.strip().split(\"=\") for line in f\n",
    ")"
   ]
  },
  {
   "cell_type": "markdown",
   "id": "72f3fc90-58b6-4f7f-897e-dddf6ae532c7",
   "metadata": {},
   "source": [
    "## Messages as state\n",
    "\n",
    "First, let's define some messages."
   ]
  },
  {
   "cell_type": "code",
   "execution_count": 3,
   "id": "cf11a463-e27a-4a05-b41d-64882e38edca",
   "metadata": {},
   "outputs": [
    {
     "name": "stdout",
     "output_type": "stream",
     "text": [
      "==================================\u001b[1m Ai Message \u001b[0m==================================\n",
      "Name: Bot\n",
      "\n",
      "So you said you were researching ocean mammals?\n",
      "================================\u001b[1m Human Message \u001b[0m=================================\n",
      "Name: Lance\n",
      "\n",
      "Yes, I know about whales. But what others should I learn about?\n"
     ]
    }
   ],
   "source": [
    "from pprint import pprint\n",
    "from langchain_core.messages import AIMessage, HumanMessage\n",
    "\n",
    "messages = [AIMessage(f\"So you said you were researching ocean mammals?\", name=\"Bot\")]\n",
    "messages.append(HumanMessage(f\"Yes, I know about whales. But what others should I learn about?\", name=\"Lance\"))\n",
    "\n",
    "for m in messages:\n",
    "    m.pretty_print()"
   ]
  },
  {
   "cell_type": "markdown",
   "id": "b814adcb-6bf9-4b75-be11-e59f933fbd0c",
   "metadata": {},
   "source": [
    "Recall we can pass them to a chat model."
   ]
  },
  {
   "cell_type": "code",
   "execution_count": 4,
   "id": "4712e288-e622-48a2-ad3f-a52f65f3ab08",
   "metadata": {},
   "outputs": [
    {
     "data": {
      "text/plain": [
       "AIMessage(content='In addition to whales, there are several other fascinating ocean mammals you might want to learn about:\\n\\n1. **Dolphins**: Known for their intelligence and playful behavior, dolphins are highly social animals that live in groups called pods.\\n\\n2. **Porpoises**: Similar to dolphins, porpoises are smaller and have different facial features. They are less acrobatic but are equally interesting.\\n\\n3. **Seals**: These are semi-aquatic mammals found in both the Arctic and Antarctic. There are various species, including harbor seals and elephant seals.\\n\\n4. **Sea Lions**: Often confused with seals, sea lions have external ear flaps and larger flippers. They are very social and often seen in large groups.\\n\\n5. **Walruses**: Known for their distinctive tusks and whiskers, walruses are large marine mammals that are primarily found in the Arctic.\\n\\n6. **Manatees and Dugongs**: Sometimes called \"sea cows,\" these gentle herbivores graze on underwater vegetation. Manatees are found in the Caribbean and along the coasts of North and South America, while dugongs are found in the Indian and Pacific Oceans.\\n\\n7. **Sea Otters**: Although not fully marine, sea otters spend a lot of time in the water and are known for their use of tools to open shellfish.\\n\\n8. **Polar Bears**: While not fully aquatic, polar bears are considered marine mammals because they depend on the ocean for food, primarily hunting seals on sea ice.\\n\\nEach of these animals has unique adaptations and behaviors that make them well-suited to their marine environments. They are all worth exploring in more detail!', additional_kwargs={'refusal': None}, response_metadata={'token_usage': {'completion_tokens': 343, 'prompt_tokens': 39, 'total_tokens': 382, 'completion_tokens_details': {'accepted_prediction_tokens': 0, 'audio_tokens': 0, 'reasoning_tokens': 0, 'rejected_prediction_tokens': 0}, 'prompt_tokens_details': {'audio_tokens': 0, 'cached_tokens': 0}}, 'model_name': 'gpt-4o-2024-08-06', 'system_fingerprint': 'fp_50cad350e4', 'finish_reason': 'stop', 'logprobs': None}, id='run-10911eb8-774d-4a7a-8e58-109ce1c4c9d7-0', usage_metadata={'input_tokens': 39, 'output_tokens': 343, 'total_tokens': 382, 'input_token_details': {'audio': 0, 'cache_read': 0}, 'output_token_details': {'audio': 0, 'reasoning': 0}})"
      ]
     },
     "execution_count": 4,
     "metadata": {},
     "output_type": "execute_result"
    }
   ],
   "source": [
    "from langchain_openai import ChatOpenAI\n",
    "\n",
    "llm = ChatOpenAI(model=\"gpt-4o\")\n",
    "llm.invoke(messages)"
   ]
  },
  {
   "cell_type": "markdown",
   "id": "fbd1dab8-0af8-4621-8264-ce65065f76ec",
   "metadata": {},
   "source": [
    "We can run our chat model in a simple graph with `MessagesState`."
   ]
  },
  {
   "cell_type": "code",
   "execution_count": 5,
   "id": "bbd8c39c-633b-4176-9cc6-8318e42bb5dd",
   "metadata": {},
   "outputs": [
    {
     "data": {
      "image/png": "[encoded data removed]",
      "text/plain": [
       "<IPython.core.display.Image object>"
      ]
     },
     "metadata": {},
     "output_type": "display_data"
    }
   ],
   "source": [
    "from IPython.display import Image, display\n",
    "from langgraph.graph import MessagesState\n",
    "from langgraph.graph import StateGraph, START, END\n",
    "\n",
    "# Node\n",
    "def chat_model_node(state: MessagesState):\n",
    "    return {\n",
    "        \"messages\": llm.invoke(state[\"messages\"])\n",
    "    }\n",
    "\n",
    "# Build graph\n",
    "builder = StateGraph(MessagesState)\n",
    "builder.add_node(\"chat_model\", chat_model_node)\n",
    "\n",
    "builder.add_edge(START, \"chat_model\")\n",
    "builder.add_edge(\"chat_model\", END)\n",
    "graph = builder.compile()\n",
    "\n",
    "# View\n",
    "display(Image(graph.get_graph().draw_mermaid_png()))"
   ]
  },
  {
   "cell_type": "code",
   "execution_count": 6,
   "id": "3a5a3e4a-ccfd-4d14-81f1-f0de6e11a1e4",
   "metadata": {},
   "outputs": [
    {
     "name": "stdout",
     "output_type": "stream",
     "text": [
      "==================================\u001b[1m Ai Message \u001b[0m==================================\n",
      "Name: Bot\n",
      "\n",
      "So you said you were researching ocean mammals?\n",
      "================================\u001b[1m Human Message \u001b[0m=================================\n",
      "Name: Lance\n",
      "\n",
      "Yes, I know about whales. But what others should I learn about?\n",
      "==================================\u001b[1m Ai Message \u001b[0m==================================\n",
      "\n",
      "In addition to whales, there are several fascinating ocean mammals you might want to learn about:\n",
      "\n",
      "1. **Dolphins**: Known for their intelligence and playful behavior, dolphins are a diverse group of aquatic mammals. They belong to the family Delphinidae and are found in oceans worldwide.\n",
      "\n",
      "2. **Porpoises**: Similar to dolphins but generally smaller and with different facial features, porpoises are another group of marine mammals. They are part of the family Phocoenidae.\n",
      "\n",
      "3. **Seals**: There are several species of seals, which are part of the pinniped family. They are known for their blubber, which keeps them warm in cold waters, and their ability to dive deeply.\n",
      "\n",
      "4. **Sea Lions**: Closely related to seals, sea lions have external ear flaps and are known for their loud barking and social behavior. They are more agile on land compared to true seals.\n",
      "\n",
      "5. **Walruses**: Recognizable by their long tusks and whiskers, walruses are large marine mammals that inhabit the Arctic seas.\n",
      "\n",
      "6. **Manatees and Dugongs**: Often referred to as \"sea cows,\" these gentle herbivores are part of the order Sirenia. They are found in warm coastal waters and are known for their slow movements and large size.\n",
      "\n",
      "7. **Sea Otters**: Though not exclusively ocean-dwelling, sea otters are marine mammals that live along the coasts of the northern and eastern North Pacific Ocean. They are known for their dense fur and use of tools to open shellfish.\n",
      "\n",
      "8. **Polar Bears**: While primarily land animals, polar bears are considered marine mammals because they spend much of their time on sea ice and are excellent swimmers, hunting seals and other prey.\n",
      "\n",
      "Each of these species has unique adaptations and behaviors that make them well-suited to life in the ocean. Learning about them can provide insights into the diverse and complex ecosystems of the world's oceans.\n"
     ]
    }
   ],
   "source": [
    "output = graph.invoke({'messages': messages})\n",
    "\n",
    "for m in output['messages']:\n",
    "    m.pretty_print()"
   ]
  },
  {
   "cell_type": "markdown",
   "id": "34c33e63-1ef4-412d-bb10-6a1b9e5b35a7",
   "metadata": {},
   "source": [
    "## Reducer\n",
    "\n",
    "A practical challenge when working with messages is managing long-running conversations. \n",
    "\n",
    "Long-running conversations result in high token usage and latency if we are not careful, because we pass a growing list of messages to the model.\n",
    "\n",
    "We have a few ways to address this.\n",
    "\n",
    "First, recall the trick we saw using `RemoveMessage` and the `add_messages` reducer."
   ]
  },
  {
   "cell_type": "code",
   "execution_count": 7,
   "id": "222c6bc5-bb0e-4a43-80f5-c8ec38d99f3a",
   "metadata": {},
   "outputs": [
    {
     "data": {
      "image/png": "[encoded data removed]",
      "text/plain": [
       "<IPython.core.display.Image object>"
      ]
     },
     "metadata": {},
     "output_type": "display_data"
    }
   ],
   "source": [
    "from langchain_core.messages import RemoveMessage\n",
    "\n",
    "# Nodes\n",
    "def filter_messages(state: MessagesState):\n",
    "    # Delete all but the 2 most recent messages\n",
    "    delete_messages = [RemoveMessage(id=m.id) for m in state[\"messages\"][:-2]]\n",
    "    return {\n",
    "        \"messages\": delete_messages\n",
    "    }\n",
    "\n",
    "def chat_model_node(state: MessagesState):    \n",
    "    return {\n",
    "        \"messages\": [llm.invoke(state[\"messages\"])]\n",
    "    }\n",
    "\n",
    "# Build graph\n",
    "builder = StateGraph(MessagesState)\n",
    "builder.add_node(\"filter\", filter_messages)\n",
    "builder.add_node(\"chat_model\", chat_model_node)\n",
    "\n",
    "builder.add_edge(START, \"filter\")\n",
    "builder.add_edge(\"filter\", \"chat_model\")\n",
    "builder.add_edge(\"chat_model\", END)\n",
    "graph = builder.compile()\n",
    "\n",
    "# View\n",
    "display(Image(graph.get_graph().draw_mermaid_png()))"
   ]
  },
  {
   "cell_type": "code",
   "execution_count": 8,
   "id": "ed61da92",
   "metadata": {},
   "outputs": [],
   "source": [
    "# Message list with a preamble\n",
    "messages = [AIMessage(\"Hi.\", name=\"Bot\", id=\"1\")]\n",
    "messages.append(HumanMessage(\"Hi.\", name=\"Lance\", id=\"2\"))\n",
    "messages.append(AIMessage(\"So you said you were researching ocean mammals?\", name=\"Bot\", id=\"3\"))\n",
    "messages.append(HumanMessage(\"Yes, I know about whales. But what others should I learn about?\", name=\"Lance\", id=\"4\"))"
   ]
  },
  {
   "cell_type": "code",
   "execution_count": 9,
   "id": "d4374afd",
   "metadata": {},
   "outputs": [
    {
     "name": "stdout",
     "output_type": "stream",
     "text": [
      "==================================\u001b[1m Ai Message \u001b[0m==================================\n",
      "Name: Bot\n",
      "\n",
      "Hi.\n",
      "================================\u001b[1m Human Message \u001b[0m=================================\n",
      "Name: Lance\n",
      "\n",
      "Hi.\n",
      "==================================\u001b[1m Ai Message \u001b[0m==================================\n",
      "Name: Bot\n",
      "\n",
      "So you said you were researching ocean mammals?\n",
      "================================\u001b[1m Human Message \u001b[0m=================================\n",
      "Name: Lance\n",
      "\n",
      "Yes, I know about whales. But what others should I learn about?\n"
     ]
    }
   ],
   "source": [
    "for m in messages:\n",
    "    m.pretty_print()"
   ]
  },
  {
   "cell_type": "code",
   "execution_count": 10,
   "id": "95a7c2cc-54ce-43e7-9a90-abf37827d709",
   "metadata": {},
   "outputs": [
    {
     "name": "stdout",
     "output_type": "stream",
     "text": [
      "==================================\u001b[1m Ai Message \u001b[0m==================================\n",
      "Name: Bot\n",
      "\n",
      "So you said you were researching ocean mammals?\n",
      "================================\u001b[1m Human Message \u001b[0m=================================\n",
      "Name: Lance\n",
      "\n",
      "Yes, I know about whales. But what others should I learn about?\n",
      "==================================\u001b[1m Ai Message \u001b[0m==================================\n",
      "\n",
      "In addition to whales, there are several other fascinating ocean mammals you might want to learn about:\n",
      "\n",
      "1. **Dolphins**: Highly intelligent and social creatures, dolphins are known for their playful behavior and complex communication. There are many species, including the bottlenose dolphin and the orca, or killer whale, which is actually the largest species of dolphin.\n",
      "\n",
      "2. **Porpoises**: Similar to dolphins but generally smaller and with different shaped teeth, porpoises are also interesting marine mammals. The vaquita, a critically endangered species, is a type of porpoise.\n",
      "\n",
      "3. **Seals and Sea Lions**: These pinnipeds are commonly found in both marine and freshwater environments. They are known for their agility in water and their ability to \"haul out\" onto land or ice. Sea lions are more social and vocal than seals.\n",
      "\n",
      "4. **Walruses**: Recognizable by their long tusks and whiskers, walruses are social animals often found in Arctic regions. They use their tusks for various purposes, including hauling themselves out of the water and defending territory.\n",
      "\n",
      "5. **Manatees and Dugongs**: Known as \"sea cows,\" these gentle herbivores graze on underwater vegetation in warm coastal waters. Manatees are found in the Atlantic Ocean, while dugongs inhabit the Indian and Pacific Oceans.\n",
      "\n",
      "6. **Sea Otters**: These playful animals are known for using tools to crack open shellfish. They have a significant role in maintaining the health of kelp forest ecosystems.\n",
      "\n",
      "7. **Polar Bears**: While they are not fully aquatic, polar bears are marine mammals because they depend on the ocean and sea ice for hunting seals, their primary food source.\n",
      "\n",
      "8. **Narwhals**: Often called the \"unicorns of the sea\" due to their long, spiral tusks, narwhals are a type of whale found in Arctic waters.\n",
      "\n",
      "Exploring the diversity, behavior, and conservation status of these marine mammals can provide a deeper understanding of the ocean's ecological dynamics and the challenges these species face.\n"
     ]
    }
   ],
   "source": [
    "# Invoke\n",
    "output = graph.invoke({'messages': messages})\n",
    "\n",
    "for m in output['messages']:\n",
    "    m.pretty_print()"
   ]
  },
  {
   "cell_type": "markdown",
   "id": "f506457d-014b-4fee-a684-e5edfb4b8f0d",
   "metadata": {},
   "source": [
    "## Filtering messages\n",
    "\n",
    "If you don't need or want to modify the graph state, you can just filter the messages you pass to the chat model.\n",
    "\n",
    "For example, just pass in a filtered list: `llm.invoke(messages[-1:])` to the model."
   ]
  },
  {
   "cell_type": "code",
   "execution_count": 11,
   "id": "22d0b904-7cd6-486b-8948-105bee3d4683",
   "metadata": {},
   "outputs": [
    {
     "data": {
      "image/png": "[encoded data removed]",
      "text/plain": [
       "<IPython.core.display.Image object>"
      ]
     },
     "metadata": {},
     "output_type": "display_data"
    }
   ],
   "source": [
    "# Node\n",
    "def chat_model_node(state: MessagesState):\n",
    "    return {\n",
    "        \"messages\": [llm.invoke(state[\"messages\"][-1:])]\n",
    "    }\n",
    "\n",
    "# Build graph\n",
    "builder = StateGraph(MessagesState)\n",
    "builder.add_node(\"chat_model\", chat_model_node)\n",
    "\n",
    "builder.add_edge(START, \"chat_model\")\n",
    "builder.add_edge(\"chat_model\", END)\n",
    "graph = builder.compile()\n",
    "\n",
    "# View\n",
    "display(Image(graph.get_graph().draw_mermaid_png()))"
   ]
  },
  {
   "cell_type": "markdown",
   "id": "6f58c6fc-532f-418d-b70a-cfcb3307daf5",
   "metadata": {},
   "source": [
    "Let's take our existing list of messages, append the above LLM response, and append a follow-up question."
   ]
  },
  {
   "cell_type": "code",
   "execution_count": 12,
   "id": "16956015-1dbe-4108-89b5-4209b68b51ca",
   "metadata": {},
   "outputs": [],
   "source": [
    "messages.append(output['messages'][-1])\n",
    "messages.append(HumanMessage(f\"Tell me more about Narwhals!\", name=\"Lance\"))"
   ]
  },
  {
   "cell_type": "code",
   "execution_count": 13,
   "id": "85563415-c085-46a8-a4ac-155df798c54e",
   "metadata": {},
   "outputs": [
    {
     "name": "stdout",
     "output_type": "stream",
     "text": [
      "==================================\u001b[1m Ai Message \u001b[0m==================================\n",
      "Name: Bot\n",
      "\n",
      "Hi.\n",
      "================================\u001b[1m Human Message \u001b[0m=================================\n",
      "Name: Lance\n",
      "\n",
      "Hi.\n",
      "==================================\u001b[1m Ai Message \u001b[0m==================================\n",
      "Name: Bot\n",
      "\n",
      "So you said you were researching ocean mammals?\n",
      "================================\u001b[1m Human Message \u001b[0m=================================\n",
      "Name: Lance\n",
      "\n",
      "Yes, I know about whales. But what others should I learn about?\n",
      "==================================\u001b[1m Ai Message \u001b[0m==================================\n",
      "\n",
      "In addition to whales, there are several other fascinating ocean mammals you might want to learn about:\n",
      "\n",
      "1. **Dolphins**: Highly intelligent and social creatures, dolphins are known for their playful behavior and complex communication. There are many species, including the bottlenose dolphin and the orca, or killer whale, which is actually the largest species of dolphin.\n",
      "\n",
      "2. **Porpoises**: Similar to dolphins but generally smaller and with different shaped teeth, porpoises are also interesting marine mammals. The vaquita, a critically endangered species, is a type of porpoise.\n",
      "\n",
      "3. **Seals and Sea Lions**: These pinnipeds are commonly found in both marine and freshwater environments. They are known for their agility in water and their ability to \"haul out\" onto land or ice. Sea lions are more social and vocal than seals.\n",
      "\n",
      "4. **Walruses**: Recognizable by their long tusks and whiskers, walruses are social animals often found in Arctic regions. They use their tusks for various purposes, including hauling themselves out of the water and defending territory.\n",
      "\n",
      "5. **Manatees and Dugongs**: Known as \"sea cows,\" these gentle herbivores graze on underwater vegetation in warm coastal waters. Manatees are found in the Atlantic Ocean, while dugongs inhabit the Indian and Pacific Oceans.\n",
      "\n",
      "6. **Sea Otters**: These playful animals are known for using tools to crack open shellfish. They have a significant role in maintaining the health of kelp forest ecosystems.\n",
      "\n",
      "7. **Polar Bears**: While they are not fully aquatic, polar bears are marine mammals because they depend on the ocean and sea ice for hunting seals, their primary food source.\n",
      "\n",
      "8. **Narwhals**: Often called the \"unicorns of the sea\" due to their long, spiral tusks, narwhals are a type of whale found in Arctic waters.\n",
      "\n",
      "Exploring the diversity, behavior, and conservation status of these marine mammals can provide a deeper understanding of the ocean's ecological dynamics and the challenges these species face.\n",
      "================================\u001b[1m Human Message \u001b[0m=================================\n",
      "Name: Lance\n",
      "\n",
      "Tell me more about Narwhals!\n"
     ]
    }
   ],
   "source": [
    "for m in messages:\n",
    "    m.pretty_print()"
   ]
  },
  {
   "cell_type": "markdown",
   "id": "d0edc007",
   "metadata": {},
   "source": [
    "Inspect the filterred message."
   ]
  },
  {
   "cell_type": "code",
   "execution_count": 14,
   "id": "b2f66667",
   "metadata": {},
   "outputs": [
    {
     "name": "stdout",
     "output_type": "stream",
     "text": [
      "================================\u001b[1m Human Message \u001b[0m=================================\n",
      "Name: Lance\n",
      "\n",
      "Tell me more about Narwhals!\n"
     ]
    }
   ],
   "source": [
    "for m in messages[-1:]:\n",
    "    m.pretty_print()"
   ]
  },
  {
   "cell_type": "code",
   "execution_count": 15,
   "id": "23349705-a059-47b5-9760-d8f64e687393",
   "metadata": {},
   "outputs": [
    {
     "name": "stdout",
     "output_type": "stream",
     "text": [
      "==================================\u001b[1m Ai Message \u001b[0m==================================\n",
      "Name: Bot\n",
      "\n",
      "Hi.\n",
      "================================\u001b[1m Human Message \u001b[0m=================================\n",
      "Name: Lance\n",
      "\n",
      "Hi.\n",
      "==================================\u001b[1m Ai Message \u001b[0m==================================\n",
      "Name: Bot\n",
      "\n",
      "So you said you were researching ocean mammals?\n",
      "================================\u001b[1m Human Message \u001b[0m=================================\n",
      "Name: Lance\n",
      "\n",
      "Yes, I know about whales. But what others should I learn about?\n",
      "==================================\u001b[1m Ai Message \u001b[0m==================================\n",
      "\n",
      "In addition to whales, there are several other fascinating ocean mammals you might want to learn about:\n",
      "\n",
      "1. **Dolphins**: Highly intelligent and social creatures, dolphins are known for their playful behavior and complex communication. There are many species, including the bottlenose dolphin and the orca, or killer whale, which is actually the largest species of dolphin.\n",
      "\n",
      "2. **Porpoises**: Similar to dolphins but generally smaller and with different shaped teeth, porpoises are also interesting marine mammals. The vaquita, a critically endangered species, is a type of porpoise.\n",
      "\n",
      "3. **Seals and Sea Lions**: These pinnipeds are commonly found in both marine and freshwater environments. They are known for their agility in water and their ability to \"haul out\" onto land or ice. Sea lions are more social and vocal than seals.\n",
      "\n",
      "4. **Walruses**: Recognizable by their long tusks and whiskers, walruses are social animals often found in Arctic regions. They use their tusks for various purposes, including hauling themselves out of the water and defending territory.\n",
      "\n",
      "5. **Manatees and Dugongs**: Known as \"sea cows,\" these gentle herbivores graze on underwater vegetation in warm coastal waters. Manatees are found in the Atlantic Ocean, while dugongs inhabit the Indian and Pacific Oceans.\n",
      "\n",
      "6. **Sea Otters**: These playful animals are known for using tools to crack open shellfish. They have a significant role in maintaining the health of kelp forest ecosystems.\n",
      "\n",
      "7. **Polar Bears**: While they are not fully aquatic, polar bears are marine mammals because they depend on the ocean and sea ice for hunting seals, their primary food source.\n",
      "\n",
      "8. **Narwhals**: Often called the \"unicorns of the sea\" due to their long, spiral tusks, narwhals are a type of whale found in Arctic waters.\n",
      "\n",
      "Exploring the diversity, behavior, and conservation status of these marine mammals can provide a deeper understanding of the ocean's ecological dynamics and the challenges these species face.\n",
      "================================\u001b[1m Human Message \u001b[0m=================================\n",
      "Name: Lance\n",
      "\n",
      "Tell me more about Narwhals!\n",
      "==================================\u001b[1m Ai Message \u001b[0m==================================\n",
      "\n",
      "Narwhals (Monodon monoceros) are fascinating marine mammals known for their distinctive long, spiral tusk, which is actually an elongated upper left canine tooth. They belong to the Monodontidae family, which also includes belugas. Here are some interesting facts about narwhals:\n",
      "\n",
      "1. **Habitat**: Narwhals are native to the Arctic waters around Greenland, Canada, and Russia. They are particularly associated with the icy regions of the North Atlantic and Arctic Oceans.\n",
      "\n",
      "2. **Physical Characteristics**: Aside from their tusk, narwhals have a mottled black and white skin, which provides camouflage in their icy environment. They grow to be about 4 to 5.5 meters (13 to 18 feet) long, with males generally being larger than females.\n",
      "\n",
      "3. **The Tusk**: The narwhal's tusk can grow up to 3 meters (10 feet) long and is most commonly found in males, though some females also grow tusks. The exact purpose of the tusk is not fully understood, but it is believed to play a role in mating rituals or social interactions. The tusk is filled with nerve endings, making it a sensitive sensory organ.\n",
      "\n",
      "4. **Diet**: Narwhals primarily feed on fish, squid, and shrimp. They dive to great depths (up to 1,500 meters or 4,900 feet) to forage for food and can hold their breath for up to 25 minutes.\n",
      "\n",
      "5. **Social Structure**: Narwhals are social animals, often found in groups called pods. These pods typically consist of 10 to 20 individuals, although larger groups can form during migration or feeding.\n",
      "\n",
      "6. **Migration and Behavior**: Narwhals are known for their seasonal migrations, moving closer to shore in the summer months and heading to deeper offshore waters in winter. Their behavior is adapted to the challenging Arctic environment, including the ability to navigate through ice-covered waters.\n",
      "\n",
      "7. **Conservation Status**: While not currently endangered, narwhals face threats from climate change, which affects their icy habitat, and from human activities such as shipping, oil and gas exploration, and hunting. They are protected under various international agreements to ensure their populations remain sustainable.\n",
      "\n",
      "8. **Cultural Significance**: Narwhals have been a part of Inuit culture for centuries, often featured in folklore and traditional hunting practices. The tusks have historically been traded as \"unicorn horns\" in medieval Europe, contributing to the myth of the unicorn.\n",
      "\n",
      "Overall, narwhals are remarkable creatures with unique adaptations to their Arctic environment. Their mysterious nature and the allure of their tusk continue to captivate scientists and the public alike.\n"
     ]
    }
   ],
   "source": [
    "# Invoke, using message filtering\n",
    "output = graph.invoke({'messages': messages})\n",
    "\n",
    "for m in output['messages']:\n",
    "    m.pretty_print()"
   ]
  },
  {
   "cell_type": "markdown",
   "id": "42e1d8d2-e297-4d78-b54c-d12b3c866745",
   "metadata": {},
   "source": [
    "The state has all of the mesages.\n",
    "\n",
    "But, let's look at the LangSmith trace to see that the model invocation only uses the last message:\n",
    "\n",
    "https://smith.langchain.com/public/75aca3ce-ef19-4b92-94be-0178c7a660d9/r"
   ]
  },
  {
   "cell_type": "markdown",
   "id": "fc40d930-3c1f-47fe-8d2a-ce174873353c",
   "metadata": {},
   "source": [
    "## Trim messages\n",
    "\n",
    "Another approach is to [trim messages](https://python.langchain.com/v0.2/docs/how_to/trim_messages/#getting-the-last-max_tokens-tokens), based upon a set number of tokens. \n",
    "\n",
    "This restricts the message history to a specified number of tokens.\n",
    "\n",
    "While filtering only returns a post-hoc subset of the messages between agents, trimming restricts the number of tokens that a chat model can use to respond.\n",
    "\n",
    "See the `trim_messages` below."
   ]
  },
  {
   "cell_type": "code",
   "execution_count": 16,
   "id": "2ff99b81-cf03-4cc2-b44f-44829a73e1fd",
   "metadata": {},
   "outputs": [
    {
     "data": {
      "image/png": "[encoded data removed]",
      "text/plain": [
       "<IPython.core.display.Image object>"
      ]
     },
     "metadata": {},
     "output_type": "display_data"
    }
   ],
   "source": [
    "from langchain_core.messages import trim_messages\n",
    "\n",
    "# Node\n",
    "def chat_model_node(state: MessagesState):\n",
    "    messages = trim_messages(\n",
    "            state[\"messages\"],\n",
    "            max_tokens=100,\n",
    "            strategy=\"last\",\n",
    "            token_counter=ChatOpenAI(model=\"gpt-4o\"),\n",
    "            allow_partial=False,\n",
    "        )\n",
    "    return {\"messages\": [llm.invoke(messages)]}\n",
    "\n",
    "# Build graph\n",
    "builder = StateGraph(MessagesState)\n",
    "builder.add_node(\"chat_model\", chat_model_node)\n",
    "\n",
    "builder.add_edge(START, \"chat_model\")\n",
    "builder.add_edge(\"chat_model\", END)\n",
    "graph = builder.compile()\n",
    "\n",
    "# View\n",
    "display(Image(graph.get_graph().draw_mermaid_png()))"
   ]
  },
  {
   "cell_type": "markdown",
   "id": "e49d3c61",
   "metadata": {},
   "source": [
    "Check the messages."
   ]
  },
  {
   "cell_type": "code",
   "execution_count": 17,
   "id": "a6d21768",
   "metadata": {},
   "outputs": [
    {
     "name": "stdout",
     "output_type": "stream",
     "text": [
      "==================================\u001b[1m Ai Message \u001b[0m==================================\n",
      "Name: Bot\n",
      "\n",
      "Hi.\n",
      "================================\u001b[1m Human Message \u001b[0m=================================\n",
      "Name: Lance\n",
      "\n",
      "Hi.\n",
      "==================================\u001b[1m Ai Message \u001b[0m==================================\n",
      "Name: Bot\n",
      "\n",
      "So you said you were researching ocean mammals?\n",
      "================================\u001b[1m Human Message \u001b[0m=================================\n",
      "Name: Lance\n",
      "\n",
      "Yes, I know about whales. But what others should I learn about?\n",
      "==================================\u001b[1m Ai Message \u001b[0m==================================\n",
      "\n",
      "In addition to whales, there are several other fascinating ocean mammals you might want to learn about:\n",
      "\n",
      "1. **Dolphins**: Highly intelligent and social creatures, dolphins are known for their playful behavior and complex communication. There are many species, including the bottlenose dolphin and the orca, or killer whale, which is actually the largest species of dolphin.\n",
      "\n",
      "2. **Porpoises**: Similar to dolphins but generally smaller and with different shaped teeth, porpoises are also interesting marine mammals. The vaquita, a critically endangered species, is a type of porpoise.\n",
      "\n",
      "3. **Seals and Sea Lions**: These pinnipeds are commonly found in both marine and freshwater environments. They are known for their agility in water and their ability to \"haul out\" onto land or ice. Sea lions are more social and vocal than seals.\n",
      "\n",
      "4. **Walruses**: Recognizable by their long tusks and whiskers, walruses are social animals often found in Arctic regions. They use their tusks for various purposes, including hauling themselves out of the water and defending territory.\n",
      "\n",
      "5. **Manatees and Dugongs**: Known as \"sea cows,\" these gentle herbivores graze on underwater vegetation in warm coastal waters. Manatees are found in the Atlantic Ocean, while dugongs inhabit the Indian and Pacific Oceans.\n",
      "\n",
      "6. **Sea Otters**: These playful animals are known for using tools to crack open shellfish. They have a significant role in maintaining the health of kelp forest ecosystems.\n",
      "\n",
      "7. **Polar Bears**: While they are not fully aquatic, polar bears are marine mammals because they depend on the ocean and sea ice for hunting seals, their primary food source.\n",
      "\n",
      "8. **Narwhals**: Often called the \"unicorns of the sea\" due to their long, spiral tusks, narwhals are a type of whale found in Arctic waters.\n",
      "\n",
      "Exploring the diversity, behavior, and conservation status of these marine mammals can provide a deeper understanding of the ocean's ecological dynamics and the challenges these species face.\n",
      "================================\u001b[1m Human Message \u001b[0m=================================\n",
      "Name: Lance\n",
      "\n",
      "Tell me more about Narwhals!\n",
      "==================================\u001b[1m Ai Message \u001b[0m==================================\n",
      "\n",
      "Narwhals (Monodon monoceros) are fascinating marine mammals known for their distinctive long, spiral tusk, which is actually an elongated upper left canine tooth. They belong to the Monodontidae family, which also includes belugas. Here are some interesting facts about narwhals:\n",
      "\n",
      "1. **Habitat**: Narwhals are native to the Arctic waters around Greenland, Canada, and Russia. They are particularly associated with the icy regions of the North Atlantic and Arctic Oceans.\n",
      "\n",
      "2. **Physical Characteristics**: Aside from their tusk, narwhals have a mottled black and white skin, which provides camouflage in their icy environment. They grow to be about 4 to 5.5 meters (13 to 18 feet) long, with males generally being larger than females.\n",
      "\n",
      "3. **The Tusk**: The narwhal's tusk can grow up to 3 meters (10 feet) long and is most commonly found in males, though some females also grow tusks. The exact purpose of the tusk is not fully understood, but it is believed to play a role in mating rituals or social interactions. The tusk is filled with nerve endings, making it a sensitive sensory organ.\n",
      "\n",
      "4. **Diet**: Narwhals primarily feed on fish, squid, and shrimp. They dive to great depths (up to 1,500 meters or 4,900 feet) to forage for food and can hold their breath for up to 25 minutes.\n",
      "\n",
      "5. **Social Structure**: Narwhals are social animals, often found in groups called pods. These pods typically consist of 10 to 20 individuals, although larger groups can form during migration or feeding.\n",
      "\n",
      "6. **Migration and Behavior**: Narwhals are known for their seasonal migrations, moving closer to shore in the summer months and heading to deeper offshore waters in winter. Their behavior is adapted to the challenging Arctic environment, including the ability to navigate through ice-covered waters.\n",
      "\n",
      "7. **Conservation Status**: While not currently endangered, narwhals face threats from climate change, which affects their icy habitat, and from human activities such as shipping, oil and gas exploration, and hunting. They are protected under various international agreements to ensure their populations remain sustainable.\n",
      "\n",
      "8. **Cultural Significance**: Narwhals have been a part of Inuit culture for centuries, often featured in folklore and traditional hunting practices. The tusks have historically been traded as \"unicorn horns\" in medieval Europe, contributing to the myth of the unicorn.\n",
      "\n",
      "Overall, narwhals are remarkable creatures with unique adaptations to their Arctic environment. Their mysterious nature and the allure of their tusk continue to captivate scientists and the public alike.\n"
     ]
    }
   ],
   "source": [
    "for m in output['messages']:\n",
    "    m.pretty_print()"
   ]
  },
  {
   "cell_type": "code",
   "execution_count": 18,
   "id": "a2f64574",
   "metadata": {},
   "outputs": [
    {
     "name": "stdout",
     "output_type": "stream",
     "text": [
      "==================================\u001b[1m Ai Message \u001b[0m==================================\n",
      "Name: Bot\n",
      "\n",
      "Hi.\n",
      "================================\u001b[1m Human Message \u001b[0m=================================\n",
      "Name: Lance\n",
      "\n",
      "Hi.\n",
      "==================================\u001b[1m Ai Message \u001b[0m==================================\n",
      "Name: Bot\n",
      "\n",
      "So you said you were researching ocean mammals?\n",
      "================================\u001b[1m Human Message \u001b[0m=================================\n",
      "Name: Lance\n",
      "\n",
      "Yes, I know about whales. But what others should I learn about?\n",
      "==================================\u001b[1m Ai Message \u001b[0m==================================\n",
      "\n",
      "In addition to whales, there are several other fascinating ocean mammals you might want to learn about:\n",
      "\n",
      "1. **Dolphins**: Highly intelligent and social creatures, dolphins are known for their playful behavior and complex communication. There are many species, including the bottlenose dolphin and the orca, or killer whale, which is actually the largest species of dolphin.\n",
      "\n",
      "2. **Porpoises**: Similar to dolphins but generally smaller and with different shaped teeth, porpoises are also interesting marine mammals. The vaquita, a critically endangered species, is a type of porpoise.\n",
      "\n",
      "3. **Seals and Sea Lions**: These pinnipeds are commonly found in both marine and freshwater environments. They are known for their agility in water and their ability to \"haul out\" onto land or ice. Sea lions are more social and vocal than seals.\n",
      "\n",
      "4. **Walruses**: Recognizable by their long tusks and whiskers, walruses are social animals often found in Arctic regions. They use their tusks for various purposes, including hauling themselves out of the water and defending territory.\n",
      "\n",
      "5. **Manatees and Dugongs**: Known as \"sea cows,\" these gentle herbivores graze on underwater vegetation in warm coastal waters. Manatees are found in the Atlantic Ocean, while dugongs inhabit the Indian and Pacific Oceans.\n",
      "\n",
      "6. **Sea Otters**: These playful animals are known for using tools to crack open shellfish. They have a significant role in maintaining the health of kelp forest ecosystems.\n",
      "\n",
      "7. **Polar Bears**: While they are not fully aquatic, polar bears are marine mammals because they depend on the ocean and sea ice for hunting seals, their primary food source.\n",
      "\n",
      "8. **Narwhals**: Often called the \"unicorns of the sea\" due to their long, spiral tusks, narwhals are a type of whale found in Arctic waters.\n",
      "\n",
      "Exploring the diversity, behavior, and conservation status of these marine mammals can provide a deeper understanding of the ocean's ecological dynamics and the challenges these species face.\n",
      "================================\u001b[1m Human Message \u001b[0m=================================\n",
      "Name: Lance\n",
      "\n",
      "Tell me more about Narwhals!\n"
     ]
    }
   ],
   "source": [
    "for m in messages:\n",
    "    m.pretty_print()"
   ]
  },
  {
   "cell_type": "code",
   "execution_count": 19,
   "id": "24df63ac-da29-4874-b3df-7e390e97cc8a",
   "metadata": {},
   "outputs": [],
   "source": [
    "messages.append(output['messages'][-1])\n",
    "messages.append(HumanMessage(f\"Tell me where Orcas live!\", name=\"Lance\"))"
   ]
  },
  {
   "cell_type": "code",
   "execution_count": 20,
   "id": "6d9d8971-c75c-43ca-a209-eb1d07b2ead0",
   "metadata": {},
   "outputs": [
    {
     "data": {
      "text/plain": [
       "[HumanMessage(content='Tell me where Orcas live!', additional_kwargs={}, response_metadata={}, name='Lance')]"
      ]
     },
     "execution_count": 20,
     "metadata": {},
     "output_type": "execute_result"
    }
   ],
   "source": [
    "# Example of trimming messages\n",
    "trim_messages(\n",
    "    messages,\n",
    "    max_tokens=100,\n",
    "    strategy=\"last\",\n",
    "    token_counter=ChatOpenAI(model=\"gpt-4o\"),\n",
    "    allow_partial=False\n",
    ")"
   ]
  },
  {
   "cell_type": "code",
   "execution_count": 21,
   "id": "ed70a269-a869-4fa0-a1df-29736a432c51",
   "metadata": {},
   "outputs": [],
   "source": [
    "# Invoke, using message trimming in the chat_model_node \n",
    "output = graph.invoke({'messages': messages})"
   ]
  },
  {
   "cell_type": "code",
   "execution_count": 22,
   "id": "d483c2e1",
   "metadata": {},
   "outputs": [
    {
     "name": "stdout",
     "output_type": "stream",
     "text": [
      "==================================\u001b[1m Ai Message \u001b[0m==================================\n",
      "Name: Bot\n",
      "\n",
      "Hi.\n",
      "================================\u001b[1m Human Message \u001b[0m=================================\n",
      "Name: Lance\n",
      "\n",
      "Hi.\n",
      "==================================\u001b[1m Ai Message \u001b[0m==================================\n",
      "Name: Bot\n",
      "\n",
      "So you said you were researching ocean mammals?\n",
      "================================\u001b[1m Human Message \u001b[0m=================================\n",
      "Name: Lance\n",
      "\n",
      "Yes, I know about whales. But what others should I learn about?\n",
      "==================================\u001b[1m Ai Message \u001b[0m==================================\n",
      "\n",
      "In addition to whales, there are several other fascinating ocean mammals you might want to learn about:\n",
      "\n",
      "1. **Dolphins**: Highly intelligent and social creatures, dolphins are known for their playful behavior and complex communication. There are many species, including the bottlenose dolphin and the orca, or killer whale, which is actually the largest species of dolphin.\n",
      "\n",
      "2. **Porpoises**: Similar to dolphins but generally smaller and with different shaped teeth, porpoises are also interesting marine mammals. The vaquita, a critically endangered species, is a type of porpoise.\n",
      "\n",
      "3. **Seals and Sea Lions**: These pinnipeds are commonly found in both marine and freshwater environments. They are known for their agility in water and their ability to \"haul out\" onto land or ice. Sea lions are more social and vocal than seals.\n",
      "\n",
      "4. **Walruses**: Recognizable by their long tusks and whiskers, walruses are social animals often found in Arctic regions. They use their tusks for various purposes, including hauling themselves out of the water and defending territory.\n",
      "\n",
      "5. **Manatees and Dugongs**: Known as \"sea cows,\" these gentle herbivores graze on underwater vegetation in warm coastal waters. Manatees are found in the Atlantic Ocean, while dugongs inhabit the Indian and Pacific Oceans.\n",
      "\n",
      "6. **Sea Otters**: These playful animals are known for using tools to crack open shellfish. They have a significant role in maintaining the health of kelp forest ecosystems.\n",
      "\n",
      "7. **Polar Bears**: While they are not fully aquatic, polar bears are marine mammals because they depend on the ocean and sea ice for hunting seals, their primary food source.\n",
      "\n",
      "8. **Narwhals**: Often called the \"unicorns of the sea\" due to their long, spiral tusks, narwhals are a type of whale found in Arctic waters.\n",
      "\n",
      "Exploring the diversity, behavior, and conservation status of these marine mammals can provide a deeper understanding of the ocean's ecological dynamics and the challenges these species face.\n",
      "================================\u001b[1m Human Message \u001b[0m=================================\n",
      "Name: Lance\n",
      "\n",
      "Tell me more about Narwhals!\n",
      "==================================\u001b[1m Ai Message \u001b[0m==================================\n",
      "\n",
      "Narwhals (Monodon monoceros) are fascinating marine mammals known for their distinctive long, spiral tusk, which is actually an elongated upper left canine tooth. They belong to the Monodontidae family, which also includes belugas. Here are some interesting facts about narwhals:\n",
      "\n",
      "1. **Habitat**: Narwhals are native to the Arctic waters around Greenland, Canada, and Russia. They are particularly associated with the icy regions of the North Atlantic and Arctic Oceans.\n",
      "\n",
      "2. **Physical Characteristics**: Aside from their tusk, narwhals have a mottled black and white skin, which provides camouflage in their icy environment. They grow to be about 4 to 5.5 meters (13 to 18 feet) long, with males generally being larger than females.\n",
      "\n",
      "3. **The Tusk**: The narwhal's tusk can grow up to 3 meters (10 feet) long and is most commonly found in males, though some females also grow tusks. The exact purpose of the tusk is not fully understood, but it is believed to play a role in mating rituals or social interactions. The tusk is filled with nerve endings, making it a sensitive sensory organ.\n",
      "\n",
      "4. **Diet**: Narwhals primarily feed on fish, squid, and shrimp. They dive to great depths (up to 1,500 meters or 4,900 feet) to forage for food and can hold their breath for up to 25 minutes.\n",
      "\n",
      "5. **Social Structure**: Narwhals are social animals, often found in groups called pods. These pods typically consist of 10 to 20 individuals, although larger groups can form during migration or feeding.\n",
      "\n",
      "6. **Migration and Behavior**: Narwhals are known for their seasonal migrations, moving closer to shore in the summer months and heading to deeper offshore waters in winter. Their behavior is adapted to the challenging Arctic environment, including the ability to navigate through ice-covered waters.\n",
      "\n",
      "7. **Conservation Status**: While not currently endangered, narwhals face threats from climate change, which affects their icy habitat, and from human activities such as shipping, oil and gas exploration, and hunting. They are protected under various international agreements to ensure their populations remain sustainable.\n",
      "\n",
      "8. **Cultural Significance**: Narwhals have been a part of Inuit culture for centuries, often featured in folklore and traditional hunting practices. The tusks have historically been traded as \"unicorn horns\" in medieval Europe, contributing to the myth of the unicorn.\n",
      "\n",
      "Overall, narwhals are remarkable creatures with unique adaptations to their Arctic environment. Their mysterious nature and the allure of their tusk continue to captivate scientists and the public alike.\n",
      "================================\u001b[1m Human Message \u001b[0m=================================\n",
      "Name: Lance\n",
      "\n",
      "Tell me where Orcas live!\n",
      "==================================\u001b[1m Ai Message \u001b[0m==================================\n",
      "\n",
      "Orcas, also known as killer whales, are found in all of the world's oceans, from the polar regions to the equator. They inhabit a variety of marine environments, including:\n",
      "\n",
      "1. **Arctic and Antarctic Regions**: Orcas are commonly found in the cold waters of the Arctic and Antarctic, where they hunt seals, fish, and other marine mammals.\n",
      "\n",
      "2. **North Pacific Ocean**: They are prevalent along the coasts of Alaska, British Columbia, and the Pacific Northwest of the United States. They can also be found around Japan and Russia.\n",
      "\n",
      "3. **North Atlantic Ocean**: Orcas inhabit areas such as the Norwegian Sea, the waters around Iceland, and the North Sea.\n",
      "\n",
      "4. **Southern Ocean**: They are present around the continent of Antarctica.\n",
      "\n",
      "5. **Temperate and Tropical Waters**: Although less common, orcas can also be found in warmer temperate and tropical waters, including the Mediterranean Sea and the Indian Ocean.\n",
      "\n",
      "Orcas are highly adaptable and can thrive in a range of oceanic environments, which is why they have such a widespread distribution. They are often found near coastlines but can also be seen in open ocean areas. Their presence is typically related to the availability of prey, as they have a diverse diet that includes fish, squid, and marine mammals.\n"
     ]
    }
   ],
   "source": [
    "for m in output['messages']:\n",
    "    m.pretty_print()"
   ]
  },
  {
   "cell_type": "markdown",
   "id": "38b3db67-380e-46b5-9a6a-20100ba52008",
   "metadata": {},
   "source": [
    "Let's look at the LangSmith trace to see the model invocation:\n",
    "\n",
    "https://smith.langchain.com/public/b153f7e9-f1a5-4d60-8074-f0d7ab5b42ef/r"
   ]
  }
 ],
 "metadata": {
  "kernelspec": {
   "display_name": "Python 3 (ipykernel)",
   "language": "python",
   "name": "python3"
  },
  "language_info": {
   "codemirror_mode": {
    "name": "ipython",
    "version": 3
   },
   "file_extension": ".py",
   "mimetype": "text/x-python",
   "name": "python",
   "nbconvert_exporter": "python",
   "pygments_lexer": "ipython3",
   "version": "3.11.9"
  }
 },
 "nbformat": 4,
 "nbformat_minor": 5
}
